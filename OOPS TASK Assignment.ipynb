{
 "cells": [
  {
   "cell_type": "markdown",
   "id": "1c56df88-47ed-4efa-a635-e39241e7d491",
   "metadata": {},
   "source": [
    "Q 1.A vehicle class with an init method having instance variables as name_of_vehicle, max_speed\n",
    "and average_of_vehicle."
   ]
  },
  {
   "cell_type": "code",
   "execution_count": 1,
   "id": "80e234a3-766a-45c0-ac33-37290fd4b0f1",
   "metadata": {},
   "outputs": [],
   "source": [
    "class Vehicle:\n",
    "    def __init__(self, name_of_vehicle, max_speed, average_speed):\n",
    "        self.name_of_vehicle = name_of_vehicle\n",
    "        self.max_speed = max_speed\n",
    "        self.average_speed = average_speed"
   ]
  },
  {
   "cell_type": "code",
   "execution_count": 2,
   "id": "7e57b35a-56ec-4c7a-b86a-587996479edd",
   "metadata": {},
   "outputs": [
    {
     "name": "stdout",
     "output_type": "stream",
     "text": [
      "Car\n",
      "200\n",
      "80\n"
     ]
    }
   ],
   "source": [
    "car = Vehicle(\"Car\", 200, 80)\n",
    "print(car.name_of_vehicle)       \n",
    "print(car.max_speed)            \n",
    "print(car.average_speed) "
   ]
  },
  {
   "cell_type": "markdown",
   "id": "9dd30c32-85ee-4652-a571-117d4e8c1312",
   "metadata": {},
   "source": [
    "Q.2  Create a child class car from the vehicle class created in Que 1, which will inherit the vehicle class.\n",
    "Create a method named seating_capacity which takes capacity as an argument and returns the name the vehicle and its seating capacity."
   ]
  },
  {
   "cell_type": "code",
   "execution_count": 3,
   "id": "9f6c575e-967d-4e00-8dcd-ae1127550e11",
   "metadata": {},
   "outputs": [],
   "source": [
    "class Car(Vehicle):\n",
    "    def __init__(self, name_of_vehicle, max_speed, average_speed):\n",
    "        super().__init__(name_of_vehicle, max_speed, average_speed)\n",
    "\n",
    "    def seating_capacity(self, capacity):\n",
    "        return f\"The {self.name_of_vehicle} has a seating capacity of {capacity} people.\""
   ]
  },
  {
   "cell_type": "code",
   "execution_count": 4,
   "id": "40c9ab13-1367-4402-8e82-d8374e94e482",
   "metadata": {},
   "outputs": [
    {
     "name": "stdout",
     "output_type": "stream",
     "text": [
      "The Toyota Camry has a seating capacity of 5 people.\n"
     ]
    }
   ],
   "source": [
    "car = Car(\"Toyota Camry\", 180, 60)\n",
    "print(car.seating_capacity(5))  "
   ]
  },
  {
   "cell_type": "markdown",
   "id": "c53af8ae-3b44-47b1-80a0-107990925e5e",
   "metadata": {},
   "source": [
    "Q 3. A class can inherit attributes and methods from multiple parent classes. It allows a class to inherit and combine the properties of multiple classes."
   ]
  },
  {
   "cell_type": "code",
   "execution_count": 3,
   "id": "e9262650-956b-4954-a0c5-0c35b43808c7",
   "metadata": {},
   "outputs": [
    {
     "name": "stdout",
     "output_type": "stream",
     "text": [
      "dog is eating.\n",
      " Sparrow is Flying.\n"
     ]
    }
   ],
   "source": [
    "class Animal:\n",
    "    def __init__(self, name):\n",
    "        self.name = name\n",
    "    \n",
    "    def eat(self):\n",
    "        print( \"dog is eating.\")\n",
    "\n",
    "class Flyabl:\n",
    "    def fly(self):\n",
    "        print(\" Sparrow is Flying.\")\n",
    "\n",
    "class Bird(Animal, Flyabl):\n",
    "    def __init__(self, name):\n",
    "        super().__init__(name)\n",
    "\n",
    "bird = Bird(\"Sparrow\")\n",
    "bird.eat() \n",
    "bird.fly()"
   ]
  },
  {
   "cell_type": "markdown",
   "id": "de4f33ca-2d2f-4cce-a581-4fd5549f8946",
   "metadata": {},
   "source": [
    "Q 4.  Create a class and create a getter and a setter method in this class."
   ]
  },
  {
   "cell_type": "code",
   "execution_count": 4,
   "id": "6a0f34d8-bbe6-4102-893c-3139947c4e0f",
   "metadata": {},
   "outputs": [
    {
     "name": "stdout",
     "output_type": "stream",
     "text": [
      "John\n",
      "Abrahim\n"
     ]
    }
   ],
   "source": [
    "class Person:\n",
    "    def __init__(self, name):\n",
    "        self._name = name\n",
    "\n",
    "    def get_name(self):\n",
    "        return self._name\n",
    "\n",
    "    def set_name(self, new_name):\n",
    "        self._name = new_name\n",
    "\n",
    "person = Person(\"John\")\n",
    "print(person.get_name())  # Output: John\n",
    "\n",
    "person.set_name(\"Abrahim\")\n",
    "print(person.get_name())"
   ]
  },
  {
   "cell_type": "markdown",
   "id": "0b64bf2b-2802-44d6-b55b-0956bef54db4",
   "metadata": {},
   "source": [
    "Q 5. Method overriding is a concept in object-oriented programming where a subclass provides a different implementation of a method that is already defined in its superclass. "
   ]
  },
  {
   "cell_type": "code",
   "execution_count": 5,
   "id": "9fd8cc45-c506-470b-b5ac-933773762a30",
   "metadata": {},
   "outputs": [
    {
     "name": "stdout",
     "output_type": "stream",
     "text": [
      "Animal is making a sound.\n",
      "Dog is barking.\n",
      "Cat is meowing.\n"
     ]
    }
   ],
   "source": [
    "class Animal:\n",
    "    def make_sound(self):\n",
    "        print(\"Animal is making a sound.\")\n",
    "\n",
    "class Dog(Animal):\n",
    "    def make_sound(self):\n",
    "        print(\"Dog is barking.\")\n",
    "\n",
    "class Cat(Animal):\n",
    "    def make_sound(self):\n",
    "        print(\"Cat is meowing.\")\n",
    "\n",
    "animal = Animal()\n",
    "animal.make_sound()  \n",
    "\n",
    "dog = Dog()\n",
    "dog.make_sound()  \n",
    "\n",
    "cat = Cat()\n",
    "cat.make_sound() "
   ]
  },
  {
   "cell_type": "code",
   "execution_count": null,
   "id": "303a93cf-65b0-4b47-bb06-8561fcd3300b",
   "metadata": {},
   "outputs": [],
   "source": []
  }
 ],
 "metadata": {
  "kernelspec": {
   "display_name": "Python 3 (ipykernel)",
   "language": "python",
   "name": "python3"
  },
  "language_info": {
   "codemirror_mode": {
    "name": "ipython",
    "version": 3
   },
   "file_extension": ".py",
   "mimetype": "text/x-python",
   "name": "python",
   "nbconvert_exporter": "python",
   "pygments_lexer": "ipython3",
   "version": "3.10.8"
  }
 },
 "nbformat": 4,
 "nbformat_minor": 5
}
